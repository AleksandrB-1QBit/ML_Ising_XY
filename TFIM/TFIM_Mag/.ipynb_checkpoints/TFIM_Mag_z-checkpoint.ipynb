{
 "cells": [
  {
   "cell_type": "code",
   "execution_count": 1,
   "metadata": {},
   "outputs": [],
   "source": [
    "import numpy as np\n",
    "from scipy.sparse import csr_matrix, kron, eye\n",
    "import scipy.sparse.linalg as las\n",
    "import scipy.linalg as la\n",
    "import matplotlib.pyplot as plt\n",
    "from tqdm import tqdm\n",
    "%matplotlib inline"
   ]
  },
  {
   "cell_type": "code",
   "execution_count": 2,
   "metadata": {},
   "outputs": [],
   "source": [
    "I = csr_matrix(np.array([[1, 0], \n",
    "                         [0, 1]]))\n",
    "X = csr_matrix(np.array([[0, 1], \n",
    "                         [1, 0]]))\n",
    "Y = csr_matrix(np.array([[0, -1j], \n",
    "                         [1j, 0]]))\n",
    "Z = csr_matrix(np.array([[1, 0], \n",
    "                         [0, -1]]))"
   ]
  },
  {
   "cell_type": "code",
   "execution_count": 3,
   "metadata": {},
   "outputs": [],
   "source": [
    "# setting up main parameters of the model\n",
    "\n",
    "\n",
    "# number of spins in the chain\n",
    "L  = 10\n",
    "# number of steps in the grid of longitudinal field values\n",
    "D  = 201\n",
    "# grid of transverse field values\n",
    "ta = np.linspace(0,2,D)"
   ]
  },
  {
   "cell_type": "code",
   "execution_count": 4,
   "metadata": {},
   "outputs": [],
   "source": [
    "# this function returns a quantum many-body Hamiltonian of the transverse field Ising model\n",
    "def Ham(L=3, ta = 0.):\n",
    "    if L == 2:\n",
    "        return - kron(Z,Z) - ta * ( kron(X,I) + kron(I,X) )\n",
    "    else:\n",
    "        Lm1 = eye(2**(L-1))\n",
    "        Lm2 = eye(2**(L-2))\n",
    "        return kron(Ham(L-1,ta),I) - kron(Lm2,kron(Z,Z)) - ta * kron(Lm1,X)"
   ]
  },
  {
   "cell_type": "code",
   "execution_count": 5,
   "metadata": {},
   "outputs": [],
   "source": [
    "# this function returns x value of spin i (i \\in [1,L]) in a chain of size L in the \"state\" state\n",
    "def z_magnetization(L,i,state):\n",
    "    if i == 1:\n",
    "        return state.T @ kron(Z,eye(2**(L-1))).toarray() @ state\n",
    "    if i == L:\n",
    "        return state.T @ kron(eye(2**(L-1)),Z).toarray() @ state\n",
    "    else:\n",
    "        return state.T @ kron(kron(eye(2**(i-1)),Z),eye(2**(L-i))).toarray() @ state"
   ]
  },
  {
   "cell_type": "code",
   "execution_count": 6,
   "metadata": {},
   "outputs": [],
   "source": [
    "def average_chain_z_magnetization(L,state):\n",
    "    tmp = 0\n",
    "    for i in range(1,L+1):\n",
    "        tmp += z_magnetization(L,i,state)\n",
    "    return tmp/L"
   ]
  },
  {
   "cell_type": "code",
   "execution_count": 7,
   "metadata": {},
   "outputs": [
    {
     "name": "stderr",
     "output_type": "stream",
     "text": [
      "100%|██████████| 201/201 [10:46<00:00,  3.22s/it]"
     ]
    },
    {
     "name": "stdout",
     "output_type": "stream",
     "text": [
      "CPU times: user 14min 2s, sys: 20.5 s, total: 14min 22s\n",
      "Wall time: 10min 46s\n"
     ]
    },
    {
     "name": "stderr",
     "output_type": "stream",
     "text": [
      "\n"
     ]
    }
   ],
   "source": [
    "%%time\n",
    "av_z_magnetizations = []\n",
    "for i in tqdm(range(D)):\n",
    "    state = las.eigsh(Ham(L, ta[i]), k=1023)[1][:,0]\n",
    "    av_z_magnetizations = np.append(av_z_magnetizations, average_chain_z_magnetization(L,state))"
   ]
  },
  {
   "cell_type": "code",
   "execution_count": 8,
   "metadata": {},
   "outputs": [
    {
     "data": {
      "image/png": "[encoded data removed]",
      "text/plain": [
       "<Figure size 432x288 with 1 Axes>"
      ]
     },
     "metadata": {
      "needs_background": "light"
     },
     "output_type": "display_data"
    }
   ],
   "source": [
    "plt.plot(ta,av_z_magnetizations,'.')\n",
    "plt.xlabel('τ')\n",
    "plt.ylabel('$m_z$')\n",
    "plt.show()"
   ]
  },
  {
   "cell_type": "code",
   "execution_count": 9,
   "metadata": {},
   "outputs": [],
   "source": [
    "z_susceptibility=[]\n",
    "for i in range(D-1):\n",
    "    z_susceptibility.append((av_z_magnetizations[i+1]-av_z_magnetizations[i])/(ta[1]-ta[0]))"
   ]
  },
  {
   "cell_type": "code",
   "execution_count": 10,
   "metadata": {},
   "outputs": [
    {
     "data": {
      "image/png": "[encoded data removed]",
      "text/plain": [
       "<Figure size 432x288 with 1 Axes>"
      ]
     },
     "metadata": {
      "needs_background": "light"
     },
     "output_type": "display_data"
    }
   ],
   "source": [
    "plt.plot(ta[:-1],z_susceptibility,'.')\n",
    "plt.xlabel('τ')\n",
    "plt.ylabel('$\\chi_z$')\n",
    "plt.show()"
   ]
  },
  {
   "cell_type": "code",
   "execution_count": null,
   "metadata": {},
   "outputs": [],
   "source": []
  }
 ],
 "metadata": {
  "kernelspec": {
   "display_name": "Python 3",
   "language": "python",
   "name": "python3"
  },
  "language_info": {
   "codemirror_mode": {
    "name": "ipython",
    "version": 3
   },
   "file_extension": ".py",
   "mimetype": "text/x-python",
   "name": "python",
   "nbconvert_exporter": "python",
   "pygments_lexer": "ipython3",
   "version": "3.7.4"
  }
 },
 "nbformat": 4,
 "nbformat_minor": 2
}

{
 "cells": [
  {
   "cell_type": "code",
   "execution_count": 1,
   "metadata": {},
   "outputs": [],
   "source": [
    "import numpy as np\n",
    "from scipy.sparse import csr_matrix, kron, eye\n",
    "import scipy.sparse.linalg as las\n",
    "import scipy.linalg as la\n",
    "import matplotlib.pyplot as plt\n",
    "from tqdm import tqdm\n",
    "%matplotlib inline"
   ]
  },
  {
   "cell_type": "code",
   "execution_count": 2,
   "metadata": {},
   "outputs": [],
   "source": [
    "I = csr_matrix(np.array([[1, 0], \n",
    "                         [0, 1]]))\n",
    "X = csr_matrix(np.array([[0, 1], \n",
    "                         [1, 0]]))\n",
    "Y = csr_matrix(np.array([[0, -1j], \n",
    "                         [1j, 0]]))\n",
    "Z = csr_matrix(np.array([[1, 0], \n",
    "                         [0, -1]]))"
   ]
  },
  {
   "cell_type": "code",
   "execution_count": 3,
   "metadata": {},
   "outputs": [],
   "source": [
    "# setting up main parameters of the model\n",
    "\n",
    "\n",
    "# number of spins in the chain\n",
    "L  = 10\n",
    "# number of steps in the grid of anisotropy parameter values\n",
    "D  = 201\n",
    "# grid of anisotropy parameter values\n",
    "s  = np.linspace(0,2,D)"
   ]
  },
  {
   "cell_type": "code",
   "execution_count": 4,
   "metadata": {},
   "outputs": [],
   "source": [
    "# this function returns a quantum many-body Hamiltonian of the XY model\n",
    "def Ham(L=3, s = 0.):\n",
    "    if L == 2:\n",
    "        return  (1+s) * kron(X,X) + (1-s) * kron(Y,Y)\n",
    "    else:\n",
    "        Lm2 = eye(2**(L-2))\n",
    "        return kron(Ham(L-1,s),I) + (1+s) * kron(Lm2,kron(X,X)) + (1-s) * kron(Lm2,kron(Y,Y))"
   ]
  },
  {
   "cell_type": "code",
   "execution_count": 5,
   "metadata": {},
   "outputs": [],
   "source": [
    "# this function returns x value of spin i (i \\in [1,L]) in a chain of size L in the \"state\" state\n",
    "def x_magnetization(L,i,state):\n",
    "    if i == 1:\n",
    "        return state.T @ kron(X,eye(2**(L-1))).toarray() @ state\n",
    "    if i == L:\n",
    "        return state.T @ kron(eye(2**(L-1)),X).toarray() @ state\n",
    "    else:\n",
    "        return state.T @ kron(kron(eye(2**(i-1)),X),eye(2**(L-i))).toarray() @ state"
   ]
  },
  {
   "cell_type": "code",
   "execution_count": 6,
   "metadata": {},
   "outputs": [],
   "source": [
    "def average_chain_x_magnetization(L,state):\n",
    "    tmp = 0\n",
    "    for i in range(1,L+1):\n",
    "        tmp += x_magnetization(L,i,state)\n",
    "    return tmp/L"
   ]
  },
  {
   "cell_type": "code",
   "execution_count": 7,
   "metadata": {},
   "outputs": [
    {
     "name": "stderr",
     "output_type": "stream",
     "text": [
      "100%|██████████| 201/201 [00:36<00:00,  5.50it/s]"
     ]
    },
    {
     "name": "stdout",
     "output_type": "stream",
     "text": [
      "CPU times: user 1min 32s, sys: 8.9 s, total: 1min 41s\n",
      "Wall time: 36.6 s\n"
     ]
    },
    {
     "name": "stderr",
     "output_type": "stream",
     "text": [
      "\n"
     ]
    }
   ],
   "source": [
    "%%time\n",
    "av_x_magnetizations = []\n",
    "for i in tqdm(range(D)):\n",
    "    state = las.eigsh(Ham(L, s[i]), k=10)[1][:,0]\n",
    "    av_x_magnetizations = np.append(av_x_magnetizations, average_chain_x_magnetization(L,state))"
   ]
  },
  {
   "cell_type": "code",
   "execution_count": 8,
   "metadata": {},
   "outputs": [
    {
     "name": "stderr",
     "output_type": "stream",
     "text": [
      "/opt/anaconda3/lib/python3.7/site-packages/numpy/core/_asarray.py:85: ComplexWarning: Casting complex values to real discards the imaginary part\n",
      "  return array(a, dtype, copy=False, order=order)\n"
     ]
    },
    {
     "data": {
      "image/png": "[encoded data removed]",
      "text/plain": [
       "<Figure size 432x288 with 1 Axes>"
      ]
     },
     "metadata": {
      "needs_background": "light"
     },
     "output_type": "display_data"
    }
   ],
   "source": [
    "plt.plot(s,av_x_magnetizations,'.')\n",
    "plt.xlabel('$\\gamma$')\n",
    "plt.ylabel('$m_x$')\n",
    "plt.show()"
   ]
  },
  {
   "cell_type": "code",
   "execution_count": 9,
   "metadata": {},
   "outputs": [],
   "source": [
    "x_susceptibility=[]\n",
    "for i in range(D-1):\n",
    "    x_susceptibility.append((av_x_magnetizations[i+1]-av_x_magnetizations[i])/(s[1]-s[0]))"
   ]
  },
  {
   "cell_type": "code",
   "execution_count": 10,
   "metadata": {},
   "outputs": [
    {
     "data": {
      "image/png": "[encoded data removed]",
      "text/plain": [
       "<Figure size 432x288 with 1 Axes>"
      ]
     },
     "metadata": {
      "needs_background": "light"
     },
     "output_type": "display_data"
    }
   ],
   "source": [
    "plt.plot(s[:-1],x_susceptibility,'.')\n",
    "plt.xlabel('$\\gamma$')\n",
    "plt.ylabel('$\\chi_x$')\n",
    "plt.show()"
   ]
  },
  {
   "cell_type": "code",
   "execution_count": null,
   "metadata": {},
   "outputs": [],
   "source": []
  }
 ],
 "metadata": {
  "kernelspec": {
   "display_name": "Python 3",
   "language": "python",
   "name": "python3"
  },
  "language_info": {
   "codemirror_mode": {
    "name": "ipython",
    "version": 3
   },
   "file_extension": ".py",
   "mimetype": "text/x-python",
   "name": "python",
   "nbconvert_exporter": "python",
   "pygments_lexer": "ipython3",
   "version": "3.7.4"
  }
 },
 "nbformat": 4,
 "nbformat_minor": 2
}

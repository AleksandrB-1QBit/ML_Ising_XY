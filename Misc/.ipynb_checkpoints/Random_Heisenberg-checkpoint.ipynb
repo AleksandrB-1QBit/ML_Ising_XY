{
 "cells": [
  {
   "cell_type": "markdown",
   "metadata": {},
   "source": [
    "Here we're going to look at the following 1D quantum Hamiltonian defined on a chain of size $L$:\n",
    "$$\n",
    "H = \\sum_{n=1}^{L-1} \\sigma^x_n\\sigma^x_{n+1} + \\sigma^y_n\\sigma^y_{n+1} + \\sigma^z_n\\sigma^z_{n+1} + \\sum_{n=1}^{L} h_n \\sigma^z_n\n",
    "$$\n",
    "where each $h_n$ is drawn from a uniform distribution $[-h,h]$.\n",
    "The phase diagram of this model is well-studied using exact diagonalization and has a phase transition from the thermal into the full MBL phase at $h_c ≈ 3.5$.\n",
    "See https://arxiv.org/pdf/1707.05362.pdf"
   ]
  },
  {
   "cell_type": "code",
   "execution_count": null,
   "metadata": {},
   "outputs": [
    {
     "name": "stderr",
     "output_type": "stream",
     "text": [
      "Using TensorFlow backend.\n"
     ]
    }
   ],
   "source": [
    "import numpy as np\n",
    "from scipy.sparse import csr_matrix, kron, eye\n",
    "import scipy.sparse.linalg as las\n",
    "import scipy.linalg as la\n",
    "import matplotlib.pyplot as plt\n",
    "from keras.models import Sequential\n",
    "from keras.layers import Dense, Dropout\n",
    "from keras import regularizers, optimizers"
   ]
  },
  {
   "cell_type": "code",
   "execution_count": null,
   "metadata": {},
   "outputs": [],
   "source": [
    "I = csr_matrix(np.array([[1, 0], \n",
    "                         [0, 1]]))\n",
    "X = csr_matrix(np.array([[0, 1], \n",
    "                         [1, 0]]))\n",
    "Y = csr_matrix(np.array([[0, -1j], \n",
    "                         [1j, 0]]))\n",
    "Z = csr_matrix(np.array([[1, 0], \n",
    "                         [0, -1]]))"
   ]
  },
  {
   "cell_type": "code",
   "execution_count": null,
   "metadata": {},
   "outputs": [],
   "source": [
    "# setting up main parameters of the model\n",
    "\n",
    "# number of spins in the chain\n",
    "L  = 15\n",
    "# a grid of distribution's lengths\n",
    "h = np.linspace(0,4,21)\n",
    "# number of configurations to be sampled for every longitudinal field distribution length in the grid\n",
    "N  = 10000"
   ]
  },
  {
   "cell_type": "code",
   "execution_count": null,
   "metadata": {},
   "outputs": [],
   "source": [
    "# this function returns a sigma_z operator on spin number i on a chain of size L, we'll need it for the Hamiltonian\n",
    "def sigma_z(i,L):\n",
    "    if i==1: \n",
    "        return kron(Z,eye(2**(L-1)))\n",
    "    if i==L:\n",
    "        return kron(eye(2**(L-1)),Z)\n",
    "    else:\n",
    "        return kron(kron(eye(2**(i-1)),Z),eye(2**(L-i)))"
   ]
  },
  {
   "cell_type": "code",
   "execution_count": null,
   "metadata": {},
   "outputs": [],
   "source": [
    "# this function returns a quantum many-body Hamiltonian XX+YY+ZZ\n",
    "def Ham_0(L=3):\n",
    "    if L == 2:\n",
    "        return kron(X,X) + kron(Y,Y) + kron(Z,Z)\n",
    "    \n",
    "    else:\n",
    "        Lm1 = eye(2**(L-1))\n",
    "        Lm2 = eye(2**(L-2))\n",
    "        return kron(Ham_0(L-1),I) + kron(Lm2,kron(X,X)) + kron(Lm2,kron(Y,Y)) + kron(Lm2,kron(Z,Z))"
   ]
  },
  {
   "cell_type": "code",
   "execution_count": null,
   "metadata": {},
   "outputs": [],
   "source": [
    "# this function takes H_0 and adds \\sum{h_i * Z_i}\n",
    "def Ham(L,h):\n",
    "    fields = np.random.uniform(-h,h,L)\n",
    "    return Ham_0(L) + sum(fields[i-1]*sigma_z(i,L) for i in np.arange(1,L+1))"
   ]
  }
 ],
 "metadata": {
  "kernelspec": {
   "display_name": "Python 3",
   "language": "python",
   "name": "python3"
  },
  "language_info": {
   "codemirror_mode": {
    "name": "ipython",
    "version": 3
   },
   "file_extension": ".py",
   "mimetype": "text/x-python",
   "name": "python",
   "nbconvert_exporter": "python",
   "pygments_lexer": "ipython3",
   "version": "3.7.4"
  }
 },
 "nbformat": 4,
 "nbformat_minor": 2
}
